{
 "cells": [
  {
   "cell_type": "code",
   "execution_count": 1,
   "metadata": {},
   "outputs": [],
   "source": [
    "import os\n",
    "import numpy as np\n",
    "import jellyfish\n",
    "import re"
   ]
  },
  {
   "cell_type": "code",
   "execution_count": 2,
   "metadata": {},
   "outputs": [],
   "source": [
    "def get_articles(data_folder=\"dataset_1\"):\n",
    "    articles=[]\n",
    "    summaries=[]\n",
    "    for project in([\"/article/\"]):\n",
    "        path=data_folder + project\n",
    "        for filename in sorted(os.listdir(path)):\n",
    "            with open(path + filename, 'r', encoding='utf-8-sig') as f:\n",
    "                article= f.read()\n",
    "                article=article.replace(\"\\n\", \" \")\n",
    "                article=article.replace(\"\\\\\", \"\")\n",
    "                article=re.sub('[!\"#$%&\\'()*+,-./:;<=>?@[\\\\]^_`{|}~]', '', article)\n",
    "                article=article.lstrip()\n",
    "                article=article.rstrip()                \n",
    "                article=article[:-1]\n",
    "                article=article.split(\"।\")\n",
    "                articles.append(article)\n",
    "                \n",
    "    for project in([\"/summary/\"]):\n",
    "        path=data_folder + project\n",
    "        for filename in sorted(os.listdir(path)):\n",
    "            with open(path + filename, 'r', encoding='utf-8-sig') as f:\n",
    "                summary= f.read()\n",
    "                summary=summary.replace(\"।\",\"\\n\")\n",
    "                summary=summary.replace(\"\\\\\", \"\")\n",
    "                summary=re.sub('[!\"#$%&\\'()*+,-./:;<=>?@[\\\\]^_`{|}~]', '', summary)\n",
    "                summary=summary.lstrip()\n",
    "                summary=summary.rstrip()\n",
    "                summary=summary.split(\"\\n\")\n",
    "                summaries.append(summary)\n",
    "    return articles, summaries"
   ]
  },
  {
   "cell_type": "code",
   "execution_count": 3,
   "metadata": {},
   "outputs": [],
   "source": [
    "articles, summaries= get_articles()"
   ]
  },
  {
   "cell_type": "code",
   "execution_count": 6,
   "metadata": {},
   "outputs": [],
   "source": [
    "stripe_articles=[]\n",
    "for article in articles:\n",
    "    stripe_article=[]\n",
    "    for sentence in article:\n",
    "        sentence=sentence.lstrip()\n",
    "        sentence=sentence.rstrip()\n",
    "        stripe_article.append(sentence)\n",
    "    stripe_articles.append(stripe_article)"
   ]
  },
  {
   "cell_type": "code",
   "execution_count": 7,
   "metadata": {},
   "outputs": [
    {
     "name": "stdout",
     "output_type": "stream",
     "text": [
      "1264\n"
     ]
    }
   ],
   "source": [
    "total=0\n",
    "for a in stripe_articles:\n",
    "    total=total+len(a)\n",
    "print(total) \"\"\"total number of sentences\"\"\""
   ]
  },
  {
   "cell_type": "code",
   "execution_count": 57,
   "metadata": {},
   "outputs": [],
   "source": [
    "label=[]\n",
    "process=0\n",
    "\n",
    "for x in range(len(stripe_articles)):\n",
    "    for y in range(len(stripe_articles[x])):\n",
    "        flag=0\n",
    "        for z in range(len(summaries[x])):\n",
    "            if (jellyfish.levenshtein_distance(stripe_articles[x][y], summaries[x][z]) <=5):\n",
    "                flag=1\n",
    "                break\n",
    "        if(flag==1):\n",
    "            stripe_articles[x][y]=stripe_articles[x][y]+\",1\"\n",
    "        else:\n",
    "            stripe_articles[x][y]=stripe_articles[x][y]+\",0\""
   ]
  },
  {
   "cell_type": "code",
   "execution_count": 60,
   "metadata": {},
   "outputs": [],
   "source": [
    "with open(\"trainset.csv\", 'w', encoding='utf8') as f:\n",
    "    f.write(\"sentence,label\\n\")"
   ]
  },
  {
   "cell_type": "code",
   "execution_count": 61,
   "metadata": {},
   "outputs": [],
   "source": [
    "with open(\"trainset.csv\", 'a', encoding='utf8') as f:\n",
    "    for a in stripe_articles:\n",
    "        for s in a:\n",
    "            f.write(s)\n",
    "            f.write(\"\\n\")"
   ]
  }
 ],
 "metadata": {
  "kernelspec": {
   "display_name": "Python 3",
   "language": "python",
   "name": "python3"
  },
  "language_info": {
   "codemirror_mode": {
    "name": "ipython",
    "version": 3
   },
   "file_extension": ".py",
   "mimetype": "text/x-python",
   "name": "python",
   "nbconvert_exporter": "python",
   "pygments_lexer": "ipython3",
   "version": "3.6.8"
  }
 },
 "nbformat": 4,
 "nbformat_minor": 2
}
