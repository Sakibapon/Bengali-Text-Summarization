{
 "cells": [
  {
   "cell_type": "code",
   "execution_count": 1,
   "metadata": {},
   "outputs": [],
   "source": [
    "import os\n",
    "import numpy as np\n",
    "import re"
   ]
  },
  {
   "cell_type": "code",
   "execution_count": 44,
   "metadata": {},
   "outputs": [],
   "source": [
    "def get_articles(data_folder=\"testset\"):\n",
    "    articles=[]\n",
    "    summaries=[]\n",
    "    for project in([\"/article/\"]):\n",
    "        path=data_folder + project\n",
    "        for filename in sorted(os.listdir(path)):\n",
    "            with open(path + filename, 'r', encoding='utf-8-sig') as f:\n",
    "                article= f.read()\n",
    "                article=article.replace(\"\\n\", \" \")\n",
    "                article=article.replace(\"\\\\\", \"\")\n",
    "                article=re.sub('[!\"#$%&\\'()*’‘+,-./:;<=>?@[\\\\]^_`{|}~]', '', article)\n",
    "                article=article.lstrip()\n",
    "                article=article.rstrip()                \n",
    "                article=article[:-1]\n",
    "                #article=article.replace(\"।\", \"\\n\")\n",
    "                article=re.sub(' +', ' ', article)\n",
    "                article=article.replace(\"। \",\"।\")\n",
    "                articles.append(article)\n",
    "                \n",
    "    for project in([\"/summary/\"]):\n",
    "        path=data_folder + project\n",
    "        for filename in sorted(os.listdir(path)):\n",
    "            with open(path + filename, 'r', encoding='utf-8-sig') as f:\n",
    "                summary= f.read()\n",
    "                summary=summary.replace(\"।\",\" \")\n",
    "                summary=summary.replace(\"\\n\",\" \")\n",
    "                summary=summary.replace(\"\\\\\", \"\")\n",
    "                summary=re.sub('[!\"#$%&\\'()*’‘+,-./:;<=>?@[\\\\]^_`{|}~]', '', summary)\n",
    "                summary=re.sub(' +', ' ', summary)\n",
    "                summary=summary.lstrip()\n",
    "                summary=summary.rstrip()\n",
    "                summaries.append(summary)\n",
    "    return articles, summaries"
   ]
  },
  {
   "cell_type": "code",
   "execution_count": 45,
   "metadata": {},
   "outputs": [],
   "source": [
    "articles, summaries= get_articles()"
   ]
  },
  {
   "cell_type": "code",
   "execution_count": 40,
   "metadata": {},
   "outputs": [],
   "source": [
    "\"\"\"l=1\n",
    "for a in summaries:\n",
    "    with open(\"Summarie{0:03d}.txt\".format(l), 'w', encoding='utf8') as f:\n",
    "        f.write(a)\n",
    "        l=l+1\"\"\""
   ]
  },
  {
   "cell_type": "code",
   "execution_count": 52,
   "metadata": {},
   "outputs": [],
   "source": [
    "with open(\"test_set.csv\", 'w', encoding='utf8') as f:\n",
    "    f.write(\"documents,summaries\\n\")"
   ]
  },
  {
   "cell_type": "code",
   "execution_count": 53,
   "metadata": {},
   "outputs": [],
   "source": [
    "with open(\"test_set.csv\", 'a', encoding='utf8') as f:\n",
    "    for a in test_set:\n",
    "        f.write(a)\n",
    "        f.write(\"\\n\")"
   ]
  }
 ],
 "metadata": {
  "kernelspec": {
   "display_name": "Python 3",
   "language": "python",
   "name": "python3"
  },
  "language_info": {
   "codemirror_mode": {
    "name": "ipython",
    "version": 3
   },
   "file_extension": ".py",
   "mimetype": "text/x-python",
   "name": "python",
   "nbconvert_exporter": "python",
   "pygments_lexer": "ipython3",
   "version": "3.6.8"
  }
 },
 "nbformat": 4,
 "nbformat_minor": 2
}
