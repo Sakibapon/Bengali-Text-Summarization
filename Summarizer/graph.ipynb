{
 "cells": [
  {
   "cell_type": "code",
   "execution_count": 6,
   "metadata": {},
   "outputs": [
    {
     "data": {
      "image/png": "[encoded data removed]",
      "text/plain": [
       "<Figure size 432x288 with 1 Axes>"
      ]
     },
     "metadata": {
      "needs_background": "light"
     },
     "output_type": "display_data"
    }
   ],
   "source": [
    "import numpy as np\n",
    "import matplotlib.pyplot as plt\n",
    " \n",
    "# data to plot\n",
    "n_groups = 3\n",
    "model = (0.6300, 0.5900,0)\n",
    "model1 = (0.5490, 0.5180,0)\n",
    "model2 = (0.6003, 0.57080,0)\n",
    " \n",
    "# create plot\n",
    "fig, ax = plt.subplots()\n",
    "index = np.arange(n_groups)\n",
    "bar_width = 0.25\n",
    "opacity = 0.8\n",
    " \n",
    "rects1 = plt.bar(index, bar_width, model1,\n",
    "alpha=opacity,\n",
    "color='r',\n",
    "label='Model-1')\n",
    " \n",
    "rects2 = plt.bar(index + bar_width, model2, bar_width,\n",
    "alpha=opacity,\n",
    "color='b',\n",
    "label='Model-2')\n",
    "\n",
    "rects2 = plt.bar(index + bar_width + bar_width, model, bar_width,\n",
    "alpha=opacity,\n",
    "color='g',\n",
    "label='Proposed Model')\n",
    " \n",
    "#plt.xlabel('Person')\n",
    "plt.ylabel('Scores')\n",
    "plt.xticks(index + bar_width, ('Rouge-1', 'Rouge-2'))\n",
    "plt.legend(loc=7)\n",
    "\n",
    "#ax.yaxis.grid(True)\n",
    " \n",
    "plt.tight_layout()\n",
    "plt.show()"
   ]
  },
  {
   "cell_type": "code",
   "execution_count": null,
   "metadata": {},
   "outputs": [],
   "source": []
  }
 ],
 "metadata": {
  "kernelspec": {
   "display_name": "Python 3",
   "language": "python",
   "name": "python3"
  },
  "language_info": {
   "codemirror_mode": {
    "name": "ipython",
    "version": 3
   },
   "file_extension": ".py",
   "mimetype": "text/x-python",
   "name": "python",
   "nbconvert_exporter": "python",
   "pygments_lexer": "ipython3",
   "version": "3.6.8"
  }
 },
 "nbformat": 4,
 "nbformat_minor": 2
}
