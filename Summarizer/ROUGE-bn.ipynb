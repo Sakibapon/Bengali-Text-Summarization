{
 "cells": [
  {
   "cell_type": "code",
   "execution_count": 62,
   "metadata": {},
   "outputs": [],
   "source": [
    "def rouge1(hypothesis,references):\n",
    "    hyp=hypothesis.split(\" \")\n",
    "    ref=references.split(\" \")\n",
    "    len_ref=len(ref)\n",
    "    count=0\n",
    "    for w in hyp:\n",
    "        if(w in ref):\n",
    "            count=count+1\n",
    "            ref.remove(w)\n",
    "    r= count/len_ref\n",
    "    p=count/len(hyp)\n",
    "    if(p+r !=0):\n",
    "        f1=2*((p*r)/(p+r))\n",
    "    else:\n",
    "        f1=0\n",
    "    return r,p,f1"
   ]
  },
  {
   "cell_type": "code",
   "execution_count": 63,
   "metadata": {},
   "outputs": [],
   "source": [
    "def rouge2(hypothesis,references):\n",
    "    hyp=hypothesis.split(\" \")\n",
    "    ref=references.split(\" \")\n",
    "    hyp2=[]\n",
    "    ref2=[]\n",
    "    for x in range(len(hyp)-1):\n",
    "        temp=hyp[x]+\" \"+hyp[x+1]\n",
    "        hyp2.append(temp)\n",
    "\n",
    "    for x in range(len(ref)-1):\n",
    "        temp=ref[x]+\" \"+ref[x+1]\n",
    "        ref2.append(temp)\n",
    "    \n",
    "    len_ref2=len(ref2)\n",
    "    count=0\n",
    "    for w in hyp2:\n",
    "        if(w in ref2):\n",
    "            count=count+1\n",
    "            ref2.remove(w)\n",
    "    r= count/len_ref2\n",
    "    p=count/len(hyp2)\n",
    "    if(p+r !=0):\n",
    "        f1=2*((p*r)/(p+r))\n",
    "    else:\n",
    "        f1=0\n",
    "    return r,p,f1"
   ]
  },
  {
   "cell_type": "code",
   "execution_count": 70,
   "metadata": {},
   "outputs": [],
   "source": [
    "def rouge3(hypothesis,references):\n",
    "    hyp=hypothesis.split(\" \")\n",
    "    ref=references.split(\" \")\n",
    "    hyp3=[]\n",
    "    ref3=[]\n",
    "    for x in range(len(hyp)-2):\n",
    "        temp=hyp[x]+\" \"+hyp[x+1]+\" \"+hyp[x+2]\n",
    "        hyp3.append(temp)\n",
    "\n",
    "    for x in range(len(ref)-2):\n",
    "        temp=ref[x]+\" \"+ref[x+1]+\" \"+ref[x+2]\n",
    "        ref3.append(temp)\n",
    "    \n",
    "    len_ref3=len(ref3)\n",
    "    count=0\n",
    "    for w in hyp3:\n",
    "        if(w in ref3):\n",
    "            count=count+1\n",
    "            ref3.remove(w)\n",
    "    r= count/len_ref3\n",
    "    p=count/len(hyp3)\n",
    "    if(p+r !=0):\n",
    "        f1=2*((p*r)/(p+r))\n",
    "    else:\n",
    "        f1=0\n",
    "        \n",
    "    print(hyp3)\n",
    "    return r,p,f1"
   ]
  }
 ],
 "metadata": {
  "kernelspec": {
   "display_name": "Python 3",
   "language": "python",
   "name": "python3"
  },
  "language_info": {
   "codemirror_mode": {
    "name": "ipython",
    "version": 3
   },
   "file_extension": ".py",
   "mimetype": "text/x-python",
   "name": "python",
   "nbconvert_exporter": "python",
   "pygments_lexer": "ipython3",
   "version": "3.6.8"
  }
 },
 "nbformat": 4,
 "nbformat_minor": 2
}
